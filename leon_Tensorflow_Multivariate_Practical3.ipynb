{
 "cells": [
  {
   "cell_type": "markdown",
   "metadata": {
    "id": "OpPhNErAUooE"
   },
   "source": [
    "## Regression as Neural Networks Practical\n"
   ]
  },
  {
   "cell_type": "code",
   "execution_count": 137,
   "metadata": {
    "id": "U8M1nH2IzI7x"
   },
   "outputs": [],
   "source": [
    "import pandas    #importing libraries to carry out necessary procedure\n",
    "import numpy as np\n",
    "np.random.seed(1337) # for reproducibility\n",
    "import pandas\n",
    "import tensorflow as tf\n",
    "from tensorflow.keras import Sequential\n",
    "from tensorflow.keras.layers import Dense\n",
    "from tensorflow.keras import metrics\n",
    "from tensorflow.keras.wrappers.scikit_learn import KerasRegressor\n",
    "from sklearn.metrics import mean_squared_error\n",
    "from sklearn.preprocessing import StandardScaler\n",
    "from sklearn.model_selection import train_test_split\n",
    "import matplotlib.pyplot as plt"
   ]
  },
  {
   "cell_type": "code",
   "execution_count": 138,
   "metadata": {
    "id": "wae_HjknzI8E"
   },
   "outputs": [],
   "source": [
    "dataframe = pandas.read_csv(\"https://raw.githubusercontent.com/eijaz1/Deep-Learning-in-Keras-Tutorial/master/data/hourly_wages_data.csv\") #import data\n",
    "dataset = dataframe.values   #assign values of the data to the variable 'dataset'"
   ]
  },
  {
   "cell_type": "code",
   "execution_count": 139,
   "metadata": {
    "colab": {
     "base_uri": "https://localhost:8080/",
     "height": 206
    },
    "id": "pM9-iHobzI8L",
    "outputId": "a7134b42-3819-4042-fa37-5e8ac630db03"
   },
   "outputs": [
    {
     "data": {
      "text/html": [
       "\n",
       "  <div id=\"df-f929e568-1e70-46cb-87b2-f854ca5e3ca0\">\n",
       "    <div class=\"colab-df-container\">\n",
       "      <div>\n",
       "<style scoped>\n",
       "    .dataframe tbody tr th:only-of-type {\n",
       "        vertical-align: middle;\n",
       "    }\n",
       "\n",
       "    .dataframe tbody tr th {\n",
       "        vertical-align: top;\n",
       "    }\n",
       "\n",
       "    .dataframe thead th {\n",
       "        text-align: right;\n",
       "    }\n",
       "</style>\n",
       "<table border=\"1\" class=\"dataframe\">\n",
       "  <thead>\n",
       "    <tr style=\"text-align: right;\">\n",
       "      <th></th>\n",
       "      <th>wage_per_hour</th>\n",
       "      <th>union</th>\n",
       "      <th>education_yrs</th>\n",
       "      <th>experience_yrs</th>\n",
       "      <th>age</th>\n",
       "      <th>female</th>\n",
       "      <th>marr</th>\n",
       "      <th>south</th>\n",
       "      <th>manufacturing</th>\n",
       "      <th>construction</th>\n",
       "    </tr>\n",
       "  </thead>\n",
       "  <tbody>\n",
       "    <tr>\n",
       "      <th>0</th>\n",
       "      <td>5.10</td>\n",
       "      <td>0</td>\n",
       "      <td>8</td>\n",
       "      <td>21</td>\n",
       "      <td>35</td>\n",
       "      <td>1</td>\n",
       "      <td>1</td>\n",
       "      <td>0</td>\n",
       "      <td>1</td>\n",
       "      <td>0</td>\n",
       "    </tr>\n",
       "    <tr>\n",
       "      <th>1</th>\n",
       "      <td>4.95</td>\n",
       "      <td>0</td>\n",
       "      <td>9</td>\n",
       "      <td>42</td>\n",
       "      <td>57</td>\n",
       "      <td>1</td>\n",
       "      <td>1</td>\n",
       "      <td>0</td>\n",
       "      <td>1</td>\n",
       "      <td>0</td>\n",
       "    </tr>\n",
       "    <tr>\n",
       "      <th>2</th>\n",
       "      <td>6.67</td>\n",
       "      <td>0</td>\n",
       "      <td>12</td>\n",
       "      <td>1</td>\n",
       "      <td>19</td>\n",
       "      <td>0</td>\n",
       "      <td>0</td>\n",
       "      <td>0</td>\n",
       "      <td>1</td>\n",
       "      <td>0</td>\n",
       "    </tr>\n",
       "    <tr>\n",
       "      <th>3</th>\n",
       "      <td>4.00</td>\n",
       "      <td>0</td>\n",
       "      <td>12</td>\n",
       "      <td>4</td>\n",
       "      <td>22</td>\n",
       "      <td>0</td>\n",
       "      <td>0</td>\n",
       "      <td>0</td>\n",
       "      <td>0</td>\n",
       "      <td>0</td>\n",
       "    </tr>\n",
       "    <tr>\n",
       "      <th>4</th>\n",
       "      <td>7.50</td>\n",
       "      <td>0</td>\n",
       "      <td>12</td>\n",
       "      <td>17</td>\n",
       "      <td>35</td>\n",
       "      <td>0</td>\n",
       "      <td>1</td>\n",
       "      <td>0</td>\n",
       "      <td>0</td>\n",
       "      <td>0</td>\n",
       "    </tr>\n",
       "  </tbody>\n",
       "</table>\n",
       "</div>\n",
       "      <button class=\"colab-df-convert\" onclick=\"convertToInteractive('df-f929e568-1e70-46cb-87b2-f854ca5e3ca0')\"\n",
       "              title=\"Convert this dataframe to an interactive table.\"\n",
       "              style=\"display:none;\">\n",
       "        \n",
       "  <svg xmlns=\"http://www.w3.org/2000/svg\" height=\"24px\"viewBox=\"0 0 24 24\"\n",
       "       width=\"24px\">\n",
       "    <path d=\"M0 0h24v24H0V0z\" fill=\"none\"/>\n",
       "    <path d=\"M18.56 5.44l.94 2.06.94-2.06 2.06-.94-2.06-.94-.94-2.06-.94 2.06-2.06.94zm-11 1L8.5 8.5l.94-2.06 2.06-.94-2.06-.94L8.5 2.5l-.94 2.06-2.06.94zm10 10l.94 2.06.94-2.06 2.06-.94-2.06-.94-.94-2.06-.94 2.06-2.06.94z\"/><path d=\"M17.41 7.96l-1.37-1.37c-.4-.4-.92-.59-1.43-.59-.52 0-1.04.2-1.43.59L10.3 9.45l-7.72 7.72c-.78.78-.78 2.05 0 2.83L4 21.41c.39.39.9.59 1.41.59.51 0 1.02-.2 1.41-.59l7.78-7.78 2.81-2.81c.8-.78.8-2.07 0-2.86zM5.41 20L4 18.59l7.72-7.72 1.47 1.35L5.41 20z\"/>\n",
       "  </svg>\n",
       "      </button>\n",
       "      \n",
       "  <style>\n",
       "    .colab-df-container {\n",
       "      display:flex;\n",
       "      flex-wrap:wrap;\n",
       "      gap: 12px;\n",
       "    }\n",
       "\n",
       "    .colab-df-convert {\n",
       "      background-color: #E8F0FE;\n",
       "      border: none;\n",
       "      border-radius: 50%;\n",
       "      cursor: pointer;\n",
       "      display: none;\n",
       "      fill: #1967D2;\n",
       "      height: 32px;\n",
       "      padding: 0 0 0 0;\n",
       "      width: 32px;\n",
       "    }\n",
       "\n",
       "    .colab-df-convert:hover {\n",
       "      background-color: #E2EBFA;\n",
       "      box-shadow: 0px 1px 2px rgba(60, 64, 67, 0.3), 0px 1px 3px 1px rgba(60, 64, 67, 0.15);\n",
       "      fill: #174EA6;\n",
       "    }\n",
       "\n",
       "    [theme=dark] .colab-df-convert {\n",
       "      background-color: #3B4455;\n",
       "      fill: #D2E3FC;\n",
       "    }\n",
       "\n",
       "    [theme=dark] .colab-df-convert:hover {\n",
       "      background-color: #434B5C;\n",
       "      box-shadow: 0px 1px 3px 1px rgba(0, 0, 0, 0.15);\n",
       "      filter: drop-shadow(0px 1px 2px rgba(0, 0, 0, 0.3));\n",
       "      fill: #FFFFFF;\n",
       "    }\n",
       "  </style>\n",
       "\n",
       "      <script>\n",
       "        const buttonEl =\n",
       "          document.querySelector('#df-f929e568-1e70-46cb-87b2-f854ca5e3ca0 button.colab-df-convert');\n",
       "        buttonEl.style.display =\n",
       "          google.colab.kernel.accessAllowed ? 'block' : 'none';\n",
       "\n",
       "        async function convertToInteractive(key) {\n",
       "          const element = document.querySelector('#df-f929e568-1e70-46cb-87b2-f854ca5e3ca0');\n",
       "          const dataTable =\n",
       "            await google.colab.kernel.invokeFunction('convertToInteractive',\n",
       "                                                     [key], {});\n",
       "          if (!dataTable) return;\n",
       "\n",
       "          const docLinkHtml = 'Like what you see? Visit the ' +\n",
       "            '<a target=\"_blank\" href=https://colab.research.google.com/notebooks/data_table.ipynb>data table notebook</a>'\n",
       "            + ' to learn more about interactive tables.';\n",
       "          element.innerHTML = '';\n",
       "          dataTable['output_type'] = 'display_data';\n",
       "          await google.colab.output.renderOutput(dataTable, element);\n",
       "          const docLink = document.createElement('div');\n",
       "          docLink.innerHTML = docLinkHtml;\n",
       "          element.appendChild(docLink);\n",
       "        }\n",
       "      </script>\n",
       "    </div>\n",
       "  </div>\n",
       "  "
      ],
      "text/plain": [
       "   wage_per_hour  union  education_yrs  ...  south  manufacturing  construction\n",
       "0           5.10      0              8  ...      0              1             0\n",
       "1           4.95      0              9  ...      0              1             0\n",
       "2           6.67      0             12  ...      0              1             0\n",
       "3           4.00      0             12  ...      0              0             0\n",
       "4           7.50      0             12  ...      0              0             0\n",
       "\n",
       "[5 rows x 10 columns]"
      ]
     },
     "execution_count": 139,
     "metadata": {},
     "output_type": "execute_result"
    }
   ],
   "source": [
    "dataframe.head()  #viewing data"
   ]
  },
  {
   "cell_type": "code",
   "execution_count": 139,
   "metadata": {
    "id": "jC6s7_K9HbIR"
   },
   "outputs": [],
   "source": []
  },
  {
   "cell_type": "code",
   "execution_count": 140,
   "metadata": {
    "id": "fpXOcpfNzI8f"
   },
   "outputs": [],
   "source": [
    "X = dataframe.drop(columns=['wage_per_hour']).values   #remove 1st column what remains are the features\n",
    "Y = dataframe['wage_per_hour'].values #target  "
   ]
  },
  {
   "cell_type": "code",
   "execution_count": 141,
   "metadata": {
    "colab": {
     "base_uri": "https://localhost:8080/"
    },
    "id": "WkYAg2YB2P0W",
    "outputId": "be01756c-f4f6-422e-9b4d-016070434595"
   },
   "outputs": [
    {
     "data": {
      "text/plain": [
       "array([[ 0,  8, 21, ...,  0,  1,  0],\n",
       "       [ 0,  9, 42, ...,  0,  1,  0],\n",
       "       [ 0, 12,  1, ...,  0,  1,  0],\n",
       "       ...,\n",
       "       [ 1, 17, 25, ...,  0,  0,  0],\n",
       "       [ 1, 12, 13, ...,  1,  0,  0],\n",
       "       [ 0, 16, 33, ...,  0,  1,  0]])"
      ]
     },
     "execution_count": 141,
     "metadata": {},
     "output_type": "execute_result"
    }
   ],
   "source": [
    "X  #view shape of feature X"
   ]
  },
  {
   "cell_type": "code",
   "execution_count": 142,
   "metadata": {
    "colab": {
     "base_uri": "https://localhost:8080/"
    },
    "id": "BolDEg3r2U5j",
    "outputId": "0f11b424-2c85-4813-cc78-3367f8e98d6c"
   },
   "outputs": [
    {
     "data": {
      "text/plain": [
       "(534,)"
      ]
     },
     "execution_count": 142,
     "metadata": {},
     "output_type": "execute_result"
    }
   ],
   "source": [
    "Y.shape   #view shape of target Y"
   ]
  },
  {
   "cell_type": "code",
   "execution_count": 143,
   "metadata": {
    "colab": {
     "base_uri": "https://localhost:8080/"
    },
    "id": "4ARfdQIC6FJK",
    "outputId": "ffda981b-f7c7-427f-94e4-f29676f00002"
   },
   "outputs": [
    {
     "data": {
      "text/plain": [
       "(534, 10)"
      ]
     },
     "execution_count": 143,
     "metadata": {},
     "output_type": "execute_result"
    }
   ],
   "source": [
    "dataset.shape  #viewing dataset shape"
   ]
  },
  {
   "cell_type": "markdown",
   "metadata": {
    "id": "_WkAUGPA2eyS"
   },
   "source": [
    "- There are 9 inputs\n",
    "- There is one output\n",
    "- To predict hourly, weekly, monthly salary of a person over some characteristics."
   ]
  },
  {
   "cell_type": "code",
   "execution_count": 144,
   "metadata": {
    "id": "3YAj_4DuWio8"
   },
   "outputs": [],
   "source": [
    "X_train, X_test, Y_train, Y_test = train_test_split(X, Y, test_size=.3) #splitting data into training and testing"
   ]
  },
  {
   "cell_type": "code",
   "execution_count": 145,
   "metadata": {
    "id": "ciYrjwOgWirT"
   },
   "outputs": [],
   "source": [
    "# define the model   (Nueral network model)\n",
    "def baseline():\n",
    "    # create model\n",
    "    model = Sequential()\n",
    "    \n",
    "    # add one fully connected layer\n",
    "    model.add(Dense(units = 8, input_dim=9, activation='relu'))\n",
    "    # add a fully connected layer for the output\n",
    "    model.add(Dense(units=1, activation='relu'))    \n",
    "    # Compile model\n",
    "    model.compile(loss='mse', optimizer='adam',metrics=[metrics.mse])\n",
    "    \n",
    "    return model"
   ]
  },
  {
   "cell_type": "code",
   "execution_count": 146,
   "metadata": {
    "id": "mvu5WW2pWitj"
   },
   "outputs": [],
   "source": [
    "model = baseline()  #initialize model"
   ]
  },
  {
   "cell_type": "code",
   "execution_count": 147,
   "metadata": {
    "colab": {
     "base_uri": "https://localhost:8080/"
    },
    "id": "x5S2adpOWivw",
    "outputId": "c63a8288-6831-4def-f135-8ec2e792b801"
   },
   "outputs": [
    {
     "name": "stdout",
     "output_type": "stream",
     "text": [
      "Model: \"sequential_6\"\n",
      "_________________________________________________________________\n",
      " Layer (type)                Output Shape              Param #   \n",
      "=================================================================\n",
      " dense_12 (Dense)            (None, 8)                 80        \n",
      "                                                                 \n",
      " dense_13 (Dense)            (None, 1)                 9         \n",
      "                                                                 \n",
      "=================================================================\n",
      "Total params: 89\n",
      "Trainable params: 89\n",
      "Non-trainable params: 0\n",
      "_________________________________________________________________\n"
     ]
    }
   ],
   "source": [
    "model.summary() #determine number of trainable parameters from the summary"
   ]
  },
  {
   "cell_type": "code",
   "execution_count": 148,
   "metadata": {
    "colab": {
     "base_uri": "https://localhost:8080/"
    },
    "id": "5W2apPWhWiyH",
    "outputId": "985ff4d5-71ab-43e1-9812-0f87384d8faf"
   },
   "outputs": [
    {
     "name": "stdout",
     "output_type": "stream",
     "text": [
      "Epoch 1/24\n",
      "94/94 [==============================] - 0s 1ms/step - loss: 52.2107 - mean_squared_error: 52.2107\n",
      "Epoch 2/24\n",
      "94/94 [==============================] - 0s 1ms/step - loss: 29.7526 - mean_squared_error: 29.7526\n",
      "Epoch 3/24\n",
      "94/94 [==============================] - 0s 1ms/step - loss: 28.2733 - mean_squared_error: 28.2733\n",
      "Epoch 4/24\n",
      "94/94 [==============================] - 0s 1ms/step - loss: 27.1817 - mean_squared_error: 27.1817\n",
      "Epoch 5/24\n",
      "94/94 [==============================] - 0s 1ms/step - loss: 26.5688 - mean_squared_error: 26.5688\n",
      "Epoch 6/24\n",
      "94/94 [==============================] - 0s 1ms/step - loss: 25.8495 - mean_squared_error: 25.8495\n",
      "Epoch 7/24\n",
      "94/94 [==============================] - 0s 1ms/step - loss: 25.3874 - mean_squared_error: 25.3874\n",
      "Epoch 8/24\n",
      "94/94 [==============================] - 0s 1ms/step - loss: 25.0854 - mean_squared_error: 25.0854\n",
      "Epoch 9/24\n",
      "94/94 [==============================] - 0s 1ms/step - loss: 24.6483 - mean_squared_error: 24.6483\n",
      "Epoch 10/24\n",
      "94/94 [==============================] - 0s 1ms/step - loss: 24.4608 - mean_squared_error: 24.4608\n",
      "Epoch 11/24\n",
      "94/94 [==============================] - 0s 1ms/step - loss: 24.2052 - mean_squared_error: 24.2052\n",
      "Epoch 12/24\n",
      "94/94 [==============================] - 0s 1ms/step - loss: 24.1341 - mean_squared_error: 24.1341\n",
      "Epoch 13/24\n",
      "94/94 [==============================] - 0s 1ms/step - loss: 24.0046 - mean_squared_error: 24.0046\n",
      "Epoch 14/24\n",
      "94/94 [==============================] - 0s 1ms/step - loss: 23.9409 - mean_squared_error: 23.9409\n",
      "Epoch 15/24\n",
      "94/94 [==============================] - 0s 1ms/step - loss: 23.7514 - mean_squared_error: 23.7514\n",
      "Epoch 16/24\n",
      "94/94 [==============================] - 0s 1ms/step - loss: 23.7392 - mean_squared_error: 23.7392\n",
      "Epoch 17/24\n",
      "94/94 [==============================] - 0s 1ms/step - loss: 23.8196 - mean_squared_error: 23.8196\n",
      "Epoch 18/24\n",
      "94/94 [==============================] - 0s 2ms/step - loss: 23.7470 - mean_squared_error: 23.7470\n",
      "Epoch 19/24\n",
      "94/94 [==============================] - 0s 1ms/step - loss: 23.8115 - mean_squared_error: 23.8115\n",
      "Epoch 20/24\n",
      "94/94 [==============================] - 0s 1ms/step - loss: 23.5769 - mean_squared_error: 23.5769\n",
      "Epoch 21/24\n",
      "94/94 [==============================] - 0s 1ms/step - loss: 23.4574 - mean_squared_error: 23.4574\n",
      "Epoch 22/24\n",
      "94/94 [==============================] - 0s 1ms/step - loss: 23.5557 - mean_squared_error: 23.5557\n",
      "Epoch 23/24\n",
      "94/94 [==============================] - 0s 2ms/step - loss: 23.3441 - mean_squared_error: 23.3441\n",
      "Epoch 24/24\n",
      "94/94 [==============================] - 0s 1ms/step - loss: 23.6282 - mean_squared_error: 23.6282\n"
     ]
    }
   ],
   "source": [
    "history = model.fit(X_train, Y_train, epochs=24, batch_size=4, verbose=1)  #Train the model"
   ]
  },
  {
   "cell_type": "code",
   "execution_count": 149,
   "metadata": {
    "id": "Maw1bm9GWi3t"
   },
   "outputs": [],
   "source": [
    "prediction = model.predict(X_test)  #Predict test data"
   ]
  },
  {
   "cell_type": "code",
   "execution_count": 1,
   "metadata": {
    "colab": {
     "base_uri": "https://localhost:8080/"
    },
    "id": "ZjQcXcSKaR7D",
    "outputId": "4ffe42c1-1fe2-4802-cff4-79bd66701c24"
   },
   "outputs": [
    {
     "ename": "NameError",
     "evalue": "name 'mean_squared_error' is not defined",
     "output_type": "error",
     "traceback": [
      "\u001b[0;31m---------------------------------------------------------------------------\u001b[0m",
      "\u001b[0;31mNameError\u001b[0m                                 Traceback (most recent call last)",
      "\u001b[0;32m<ipython-input-1-81ccf53b8dbf>\u001b[0m in \u001b[0;36m<module>\u001b[0;34m\u001b[0m\n\u001b[0;32m----> 1\u001b[0;31m \u001b[0mY_pred\u001b[0m\u001b[0;34m=\u001b[0m\u001b[0mmean_squared_error\u001b[0m\u001b[0;34m(\u001b[0m\u001b[0mY_test\u001b[0m\u001b[0;34m,\u001b[0m \u001b[0mprediction\u001b[0m\u001b[0;34m)\u001b[0m  \u001b[0;31m#compute mean error\u001b[0m\u001b[0;34m\u001b[0m\u001b[0;34m\u001b[0m\u001b[0m\n\u001b[0m",
      "\u001b[0;31mNameError\u001b[0m: name 'mean_squared_error' is not defined"
     ]
    }
   ],
   "source": [
    "mean_squared_error(Y_test, prediction)  #compute mean error"
   ]
  },
  {
   "cell_type": "code",
   "execution_count": null,
   "metadata": {},
   "outputs": [],
   "source": []
  },
  {
   "cell_type": "code",
   "execution_count": 151,
   "metadata": {
    "colab": {
     "base_uri": "https://localhost:8080/",
     "height": 513
    },
    "id": "u0UAL194aSpX",
    "outputId": "f7d75e98-35cb-4539-c52d-6caf36a1ec1a"
   },
   "outputs": [
    {
     "data": {
      "image/png": "[encoded data removed]",
      "text/plain": [
       "<Figure size 576x576 with 1 Axes>"
      ]
     },
     "metadata": {
      "needs_background": "light"
     },
     "output_type": "display_data"
    }
   ],
   "source": [
    "plt.figure(figsize=(8, 8))  #Plot of error VS. epochs\n",
    "plt.plot(history.history['mean_squared_error'])\n",
    "plt.title('Model loss')\n",
    "plt.ylabel('Mean Squared Error')\n",
    "plt.xlabel('Epoch')\n",
    "plt.show()"
   ]
  },
  {
   "cell_type": "code",
   "execution_count": 151,
   "metadata": {
    "id": "TzhBkx4paSsh"
   },
   "outputs": [],
   "source": []
  },
  {
   "cell_type": "code",
   "execution_count": 151,
   "metadata": {
    "id": "2tJiwl2aaSvU"
   },
   "outputs": [],
   "source": []
  },
  {
   "cell_type": "code",
   "execution_count": 151,
   "metadata": {
    "id": "L0Ew0f31aSxS"
   },
   "outputs": [],
   "source": []
  },
  {
   "cell_type": "code",
   "execution_count": 151,
   "metadata": {
    "id": "NsmoEtN2aS0F"
   },
   "outputs": [],
   "source": []
  },
  {
   "cell_type": "markdown",
   "metadata": {
    "id": "VPTprliYUGtV"
   },
   "source": [
    "Total marks: 21\n",
    "\n",
    "Columns 2 to 10 represent the features of the dataset. The first column is the target. Answer the following questions\n",
    "\n",
    "The dataset represents characteristics of people along with the associated salary earned per hour (in some scaled currency).\n",
    "\n",
    "1) How many inputs would a neural network have if we tried to solve this problem?\n",
    "\n",
    "2) How many outputs would the neural network have?\n",
    "\n",
    "3) What is the goal here? What are we trying to achieve with machine learning?\n",
    "\n",
    "<hr>\n",
    "\n",
    "Implement a neural network in Tensorflow.\n",
    "\n",
    "The total number of weights within the model should be less than 100. Make sure to print the number of parameters within your model.\n",
    "\n",
    "Train for 24 epochs and use a batch size of 4. \n",
    "\n",
    "Predict on testing data (split the data into training and testing).\n",
    "\n",
    "Determine the mean squared error on the test data\n",
    "\n",
    "Plot the training loss and comment on the plot."
   ]
  },
  {
   "cell_type": "code",
   "execution_count": 151,
   "metadata": {
    "id": "80xAA_hVVDV0"
   },
   "outputs": [],
   "source": []
  }
 ],
 "metadata": {
  "colab": {
   "collapsed_sections": [],
   "name": "leon_Tensorflow_Multivariate_Practical3.ipynb",
   "provenance": []
  },
  "kernelspec": {
   "display_name": "Python 3",
   "language": "python",
   "name": "python3"
  },
  "language_info": {
   "codemirror_mode": {
    "name": "ipython",
    "version": 3
   },
   "file_extension": ".py",
   "mimetype": "text/x-python",
   "name": "python",
   "nbconvert_exporter": "python",
   "pygments_lexer": "ipython3",
   "version": "3.9.2"
  }
 },
 "nbformat": 4,
 "nbformat_minor": 1
}
